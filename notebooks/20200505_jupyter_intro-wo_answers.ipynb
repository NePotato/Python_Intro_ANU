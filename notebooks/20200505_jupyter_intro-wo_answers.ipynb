{
 "cells": [
  {
   "cell_type": "markdown",
   "metadata": {},
   "source": [
    "## This material is adjusted from Software carpentry and can be found here.  \n",
    "http://swcarpentry.github.io/python-novice-gapminder/"
   ]
  },
  {
   "cell_type": "markdown",
   "metadata": {},
   "source": [
    "## Why notebooks and why markdown\n",
    "* great for open science\n",
    "* great way to explore data\n",
    "* great way to explore packages"
   ]
  },
  {
   "cell_type": "markdown",
   "metadata": {},
   "source": [
    "# Running and Quitting"
   ]
  },
  {
   "cell_type": "markdown",
   "metadata": {},
   "source": [
    "#### Questions you should be able to answer after this session\n",
    "* How can I run a bash command in a notebook\n",
    "* How to run a python command in a notebook\n",
    "* How to annotate cells in markdown"
   ]
  },
  {
   "cell_type": "markdown",
   "metadata": {},
   "source": [
    "#### Objectives\n",
    "* Launch the Jupyter Notebook, create new notebooks, and exit the Notebook.\n",
    "* Create Markdown cells in a notebook.\n",
    "* Create and run Python cells in a notebook.\n",
    "* Create and run bash cells in a notebook."
   ]
  },
  {
   "cell_type": "markdown",
   "metadata": {},
   "source": [
    "#### Difference in file extensions\n",
    "* python programs are in plain text and by convention end in **.py**\n",
    "* in the following session and tomorrow afternoon we will use [jupyter notebook](https://jupyter.org/) as it nice to get to know python interactively and to mix code with comments + figures as shown here.\n",
    "* jupyter notebook comes within the [Anaconda](http://docs.continuum.io/anaconda/install/) package manager so you can install this on our own machines as well. I will walk you through this in the break."
   ]
  },
  {
   "cell_type": "markdown",
   "metadata": {},
   "source": [
    "In the terminal do:"
   ]
  },
  {
   "cell_type": "raw",
   "metadata": {},
   "source": [
    "git clone git@github.com:megancamilla/Python_Intro_ANU.git\n",
    "\n",
    "cd Python_Intro_ANU\n",
    "\n",
    "cd notebooks\n",
    "\n",
    "jupyter notebook"
   ]
  },
  {
   "cell_type": "markdown",
   "metadata": {},
   "source": [
    "This has several advantages:\n",
    "* You can easily type, edit, and copy and paste blocks of code.\n",
    "* Tab complete allows you to easily access the names of things you are using and learn more about them.\n",
    "* **Shift+Tab** let's you access the docstrings of methods and functions.\n",
    "* It allows you to annotate your code with links, different sized text, bullets, etc. to make it more accessible to you and your collaborators.\n",
    "* It allows you to display figures next to the code that produces them to tell a complete story of the analysis.\n",
    "\n",
    "And some disadvantages:\n",
    "* Is not stored in plain text but JSON format.\n",
    "* Not the order of the cell but the order of execusion matters."
   ]
  },
  {
   "cell_type": "code",
   "execution_count": null,
   "metadata": {},
   "outputs": [],
   "source": [
    "%matplotlib inline\n",
    "from IPython.display import Image"
   ]
  },
  {
   "cell_type": "code",
   "execution_count": null,
   "metadata": {},
   "outputs": [],
   "source": [
    "Image(filename='../figures/coronavirus_genome.png')"
   ]
  },
  {
   "cell_type": "markdown",
   "metadata": {},
   "source": [
    "#### Code vs. Text\n",
    "We often use the term “code” to mean “the source code of software written in a language such as Python”. A “code cell” in a Notebook is a cell that contains software; a “text cell” is one that contains ordinary prose written for human beings. \n",
    "  \n",
    "* If you press **\"Esc\"** and **\"Return\"** alternately, the outer border of your code cell will change from gray/blue to green. \n",
    "* These are the **Command** (blue) and **Edit** (green) modes of your notebook.\n",
    "* In Command mode, pressing the **\"H\"** key will provide a list of all the shortcut keys.\n",
    "* Command mode allows you to edit notebook-level features, and Edit mode changes the content of cells.\n",
    "* When in Command mode (esc/blue),\n",
    "\n",
    "    * The **\"B\"** key will make a new cell below the currently selected cell.\n",
    "    * The **\"A\"** key will make one above.\n",
    "    * The **\"X\"** key will delete the current cell.\n",
    "    * The **\"Z\"** key will undo your last cell deletion.\n",
    "* All actions can be done using the menus, but there are lots of keyboard shortcuts to speed things up.\n",
    "* If you remember the **\"Esc\"** and **\"H\"** shortcut, you will be able to find out all the rest.\n"
   ]
  },
  {
   "cell_type": "markdown",
   "metadata": {},
   "source": [
    "#### Excerise I\n",
    "In the Jupyter notebook page are you currently in Command or Edit mode?\n",
    "Switch between the modes. Use the shortcuts to generate a new cell. Use the shortcuts to delete a cell"
   ]
  },
  {
   "cell_type": "code",
   "execution_count": null,
   "metadata": {},
   "outputs": [],
   "source": []
  },
  {
   "cell_type": "markdown",
   "metadata": {},
   "source": [
    "#### Use the keyboard and mouse to select and edit cells."
   ]
  },
  {
   "cell_type": "markdown",
   "metadata": {},
   "source": [
    "* Pressing the **\"Return\"** key turns the border green and engages Edit mode, which allows you to type within the cell.\n",
    "* Because we want to be able to write many lines of code in a single cell, pressing the **\"Return\"** key when in Edit mode (green) moves the cursor to the next line in the cell just like in a text editor.\n",
    "* We need some other way to tell the Notebook we want to run what’s in the cell.\n",
    "* Pressing **\"Shift+Return\"** together will execute the contents of the cell.\n",
    "* Notice that the **\"Return\"** and **\"Shift\"** keys on the right of the keyboard are right next to each other.\n"
   ]
  },
  {
   "cell_type": "markdown",
   "metadata": {},
   "source": [
    "#### The Notebook will turn Markdown into pretty-printed documentation."
   ]
  },
  {
   "cell_type": "markdown",
   "metadata": {},
   "source": [
    "* Notebooks can also render [Markdown](https://en.wikipedia.org/wiki/Markdown). Nice cheatsheet [here](https://github.com/adam-p/markdown-here/wiki/Markdown-Cheatsheet)\n",
    "    * A simple plain-text format for writing lists, links, and other things that might go into a web page.\n",
    "    * Equivalently, a subset of HTML that looks like what you’d send in an old-fashioned email.\n",
    "* Turn the current cell into a Markdown cell by entering the Command mode (**\"Esc\"**/blue) and press the **\"M\"** key.\n",
    "* In [ ]: will disappear to show it is no longer a code cell and you will be able to write in Markdown.\n",
    "* Turn the current cell into a Code cell by entering the Command mode (**\"Esc\"**/blue) and press the **\"Y\"** key.\n"
   ]
  },
  {
   "cell_type": "markdown",
   "metadata": {},
   "source": [
    "#### Markdown does most of what HTML does."
   ]
  },
  {
   "cell_type": "raw",
   "metadata": {},
   "source": [
    "*   Use asterisks\n",
    "*   to create\n",
    "*   bullet lists."
   ]
  },
  {
   "cell_type": "markdown",
   "metadata": {},
   "source": []
  },
  {
   "cell_type": "raw",
   "metadata": {},
   "source": [
    "1.  Use numbers\n",
    "1.  to create\n",
    "1.  numbered lists."
   ]
  },
  {
   "cell_type": "markdown",
   "metadata": {},
   "source": []
  },
  {
   "cell_type": "raw",
   "metadata": {},
   "source": [
    "*  You can use indents\n",
    "\t*  To create sublists \n",
    "\t*  of the same type\n",
    "*  Or sublists\n",
    "\t1. Of different\n",
    "\t1. types"
   ]
  },
  {
   "cell_type": "markdown",
   "metadata": {},
   "source": []
  },
  {
   "cell_type": "raw",
   "metadata": {},
   "source": [
    "# A Level-1 Heading"
   ]
  },
  {
   "cell_type": "markdown",
   "metadata": {},
   "source": [
    "# A Level-1 Heading"
   ]
  },
  {
   "cell_type": "raw",
   "metadata": {},
   "source": [
    "## A Level-2 Heading (etc.)"
   ]
  },
  {
   "cell_type": "markdown",
   "metadata": {},
   "source": [
    "#### A Level-2 Heading (etc.)"
   ]
  },
  {
   "cell_type": "raw",
   "metadata": {},
   "source": [
    "Line breaks\n",
    "don't matter.\n",
    "\n",
    "But blank lines\n",
    "create new paragraphs.\n",
    "\n",
    "And two spaces with line break folds the end.  \n",
    "Hurray."
   ]
  },
  {
   "cell_type": "markdown",
   "metadata": {},
   "source": []
  },
  {
   "cell_type": "markdown",
   "metadata": {},
   "source": [
    "#### Excerise II"
   ]
  },
  {
   "cell_type": "raw",
   "metadata": {},
   "source": [
    "\n",
    "Create a nested list in a Markdown cell in a notebook that looks like this:\n",
    "\n",
    "    1. Get funding.\n",
    "    2. Do work.\n",
    "        o Design experiment.\n",
    "        o Collect data.\n",
    "        o Analyze.\n",
    "    3. Write up.\n",
    "    4. Publish.\n",
    "`"
   ]
  },
  {
   "cell_type": "markdown",
   "metadata": {},
   "source": []
  },
  {
   "cell_type": "markdown",
   "metadata": {},
   "source": [
    "## Notebooks play nice with the bash"
   ]
  },
  {
   "cell_type": "code",
   "execution_count": null,
   "metadata": {},
   "outputs": [],
   "source": []
  },
  {
   "cell_type": "code",
   "execution_count": null,
   "metadata": {},
   "outputs": [],
   "source": []
  },
  {
   "cell_type": "code",
   "execution_count": null,
   "metadata": {},
   "outputs": [],
   "source": []
  },
  {
   "cell_type": "code",
   "execution_count": null,
   "metadata": {},
   "outputs": [],
   "source": []
  },
  {
   "cell_type": "code",
   "execution_count": null,
   "metadata": {},
   "outputs": [],
   "source": []
  },
  {
   "cell_type": "markdown",
   "metadata": {},
   "source": [
    "### Excerise III"
   ]
  },
  {
   "cell_type": "markdown",
   "metadata": {},
   "source": [
    "Last time Kevin did a nice introduction on how to develop a script and use it over a nice small sample set.  \n",
    "\n",
    "* Within the notebook change your directory to the same direcotry as last week (e.g. /home/YOURLOGIN/lesson4).\n",
    "* Delete the outputs directory.\n",
    "* Recreate the same analysis as last time within the notebook.\n",
    "* Use comments and Markdown within the notebook to describe your input sample set and your analysis."
   ]
  },
  {
   "cell_type": "code",
   "execution_count": null,
   "metadata": {},
   "outputs": [],
   "source": []
  },
  {
   "cell_type": "markdown",
   "metadata": {},
   "source": [
    "#### Excerise IV"
   ]
  },
  {
   "cell_type": "markdown",
   "metadata": {},
   "source": [
    "What happens if you write some Python in a code cell and then you switch it to a Markdown cell? For example, put the following in a code cell:"
   ]
  },
  {
   "cell_type": "code",
   "execution_count": null,
   "metadata": {},
   "outputs": [],
   "source": [
    "x = 6*7 +12\n",
    "print(x)"
   ]
  },
  {
   "cell_type": "markdown",
   "metadata": {},
   "source": [
    "x = 6*7 +12\n",
    "print(x)"
   ]
  },
  {
   "cell_type": "markdown",
   "metadata": {},
   "source": [
    "### Key Points\n",
    "* Use the Jupyter Notebook for editing and running command line and python code.\n",
    "* The Notebook has Command and Edit modes.\n",
    "* Use the keyboard and mouse to select and edit cells.\n",
    "* The Notebook will turn Markdown into pretty-printed documentation.\n",
    "* Notebooks let you mix and match analysis code with figures and documentation. \n",
    "* Notebooks let you mix different languages -->> Mind blow!"
   ]
  },
  {
   "cell_type": "code",
   "execution_count": null,
   "metadata": {},
   "outputs": [],
   "source": []
  },
  {
   "cell_type": "code",
   "execution_count": null,
   "metadata": {},
   "outputs": [],
   "source": []
  },
  {
   "cell_type": "code",
   "execution_count": null,
   "metadata": {},
   "outputs": [],
   "source": [
    "Image(filename='../figures/mindblow.jpg')"
   ]
  },
  {
   "cell_type": "code",
   "execution_count": null,
   "metadata": {},
   "outputs": [],
   "source": []
  }
 ],
 "metadata": {
  "kernelspec": {
   "display_name": "Python 3",
   "language": "python",
   "name": "python3"
  },
  "language_info": {
   "codemirror_mode": {
    "name": "ipython",
    "version": 3
   },
   "file_extension": ".py",
   "mimetype": "text/x-python",
   "name": "python",
   "nbconvert_exporter": "python",
   "pygments_lexer": "ipython3",
   "version": "3.7.1"
  }
 },
 "nbformat": 4,
 "nbformat_minor": 2
}
